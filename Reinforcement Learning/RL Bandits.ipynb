{
 "cells": [
  {
   "cell_type": "code",
   "execution_count": 1,
   "metadata": {},
   "outputs": [],
   "source": [
    "import tensorflow as tf\n",
    "import numpy as np"
   ]
  },
  {
   "cell_type": "code",
   "execution_count": 2,
   "metadata": {},
   "outputs": [],
   "source": [
    "#Bandits\n",
    "\n",
    "bandits = [0.2, 0, -.2, -5]\n",
    "num_bandits = len(bandits)\n",
    "\n",
    "def pullBandit(bandit):\n",
    "    result = np.random.randn(1)\n",
    "    return 1 if result > bandit else -1"
   ]
  },
  {
   "cell_type": "code",
   "execution_count": 3,
   "metadata": {},
   "outputs": [],
   "source": [
    "sess = tf.InteractiveSession()"
   ]
  },
  {
   "cell_type": "code",
   "execution_count": 4,
   "metadata": {},
   "outputs": [],
   "source": [
    "#These two lines established the feed-forward part of the network. This does the actual choosing.\n",
    "weights = tf.Variable(tf.ones([num_bandits]))\n",
    "chosen_action = tf.argmax(weights,0)\n",
    "\n",
    "#The next six lines establish the training proceedure. We feed the reward and chosen action into the network\n",
    "#to compute the loss, and use it to update the network.\n",
    "reward_holder = tf.placeholder(shape=[1],dtype=tf.float32)\n",
    "action_holder = tf.placeholder(shape=[1],dtype=tf.int32)\n",
    "responsible_weight = tf.slice(weights,action_holder,[1])\n",
    "loss = -(tf.log(responsible_weight)*reward_holder)\n",
    "optimizer = tf.train.GradientDescentOptimizer(learning_rate=0.001)\n",
    "update = optimizer.minimize(loss)"
   ]
  },
  {
   "cell_type": "code",
   "execution_count": 5,
   "metadata": {},
   "outputs": [],
   "source": [
    "tf.global_variables_initializer().run()"
   ]
  },
  {
   "cell_type": "code",
   "execution_count": 9,
   "metadata": {},
   "outputs": [
    {
     "name": "stdout",
     "output_type": "stream",
     "text": [
      "Running reward for the 4 bandits: [0. 0. 0. 1.]\n",
      "Running reward for the 4 bandits: [ 1.  1.  0. 47.]\n",
      "Running reward for the 4 bandits: [ 1.  1.  0. 95.]\n",
      "Running reward for the 4 bandits: [  2.   1.  -1. 143.]\n",
      "Running reward for the 4 bandits: [  2.   0.   1. 188.]\n",
      "Running reward for the 4 bandits: [  1.   0.   1. 237.]\n",
      "Running reward for the 4 bandits: [  2.  -1.   2. 282.]\n",
      "Running reward for the 4 bandits: [  3.  -2.   5. 327.]\n",
      "Running reward for the 4 bandits: [  3.  -3.   4. 371.]\n",
      "Running reward for the 4 bandits: [  2.  -1.   3. 415.]\n",
      "Running reward for the 4 bandits: [  0.  -1.   5. 459.]\n",
      "Running reward for the 4 bandits: [ -1.   0.   5. 505.]\n",
      "Running reward for the 4 bandits: [ -2.  -1.   6. 552.]\n",
      "Running reward for the 4 bandits: [ -3.  -1.   6. 597.]\n",
      "Running reward for the 4 bandits: [ -2.  -2.   6. 641.]\n",
      "Running reward for the 4 bandits: [ -3.  -2.   7. 689.]\n",
      "Running reward for the 4 bandits: [ -5.  -2.   8. 734.]\n",
      "Running reward for the 4 bandits: [ -6.  -2.   9. 778.]\n",
      "Running reward for the 4 bandits: [ -8.  -3.   9. 823.]\n",
      "Running reward for the 4 bandits: [ -8.  -4.  10. 869.]\n",
      "The agent thinks bandit 4 is the most promising....\n",
      "...and it was right!\n"
     ]
    }
   ],
   "source": [
    "total_episodes = 1000 #Set total number of episodes to train agent on.\n",
    "total_reward = np.zeros(num_bandits) #Set scoreboard for bandits to 0.\n",
    "e = 0.1 #Set the chance of taking a random action.\n",
    "\n",
    "\n",
    "# Launch the tensorflow graph\n",
    "i = 0\n",
    "while i < total_episodes:\n",
    "\n",
    "    #Choose either a random action or one from our network.\n",
    "    if np.random.rand(1) < e:\n",
    "        action = np.random.randint(num_bandits)\n",
    "    else:\n",
    "        action = sess.run(chosen_action)\n",
    "\n",
    "    reward = pullBandit(bandits[action]) #Get our reward from picking one of the bandits.\n",
    "\n",
    "    #Update the network.\n",
    "    _,resp,ww = sess.run([update,responsible_weight,weights], feed_dict={reward_holder:[reward],action_holder:[action]})\n",
    "\n",
    "    #Update our running tally of scores.\n",
    "    total_reward[action] += reward\n",
    "    if i % 50 == 0:\n",
    "        print(\"Running reward for the \" + str(num_bandits) + \" bandits: \" + str(total_reward))\n",
    "    i+=1\n",
    "print(\"The agent thinks bandit \" + str(np.argmax(ww)+1) + \" is the most promising....\")\n",
    "if np.argmax(ww) == np.argmax(-np.array(bandits)):\n",
    "    print(\"...and it was right!\")\n",
    "else:\n",
    "    print(\"...and it was wrong!\")"
   ]
  },
  {
   "cell_type": "code",
   "execution_count": null,
   "metadata": {},
   "outputs": [],
   "source": []
  }
 ],
 "metadata": {
  "kernelspec": {
   "display_name": "Python 3",
   "language": "python",
   "name": "python3"
  },
  "language_info": {
   "codemirror_mode": {
    "name": "ipython",
    "version": 3
   },
   "file_extension": ".py",
   "mimetype": "text/x-python",
   "name": "python",
   "nbconvert_exporter": "python",
   "pygments_lexer": "ipython3",
   "version": "3.6.5"
  }
 },
 "nbformat": 4,
 "nbformat_minor": 2
}
