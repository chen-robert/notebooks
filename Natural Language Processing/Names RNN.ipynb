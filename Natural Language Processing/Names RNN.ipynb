{
 "cells": [
  {
   "cell_type": "code",
   "execution_count": 6,
   "metadata": {},
   "outputs": [],
   "source": [
    "import tensorflow as tf\n",
    "from tensorflow.contrib import rnn\n",
    "import numpy as np\n",
    "import pandas"
   ]
  },
  {
   "cell_type": "code",
   "execution_count": 2,
   "metadata": {},
   "outputs": [],
   "source": [
    "def read_data():\n",
    "    csv = pandas.read_csv(\"data/names/baby-names.csv\")\n",
    "    \n",
    "    names = csv.name.tolist()\n",
    "    maxLen = len(max(names, key=len))\n",
    "    \n",
    "    paddedNames = [toChars(str) + [0] * (maxLen - len(str)) for str in names]\n",
    "    types = [0 if sex == \"boy\" else 1 for sex in csv.sex.tolist() ]\n",
    "    \n",
    "    return paddedNames, types, maxLen    \n",
    "def toChars(str):\n",
    "    str = str.lower()\n",
    "    return [ord(i) - ord('a') for i in str]"
   ]
  },
  {
   "cell_type": "code",
   "execution_count": 3,
   "metadata": {},
   "outputs": [],
   "source": [
    "names, sexes, maxLen = read_data()"
   ]
  },
  {
   "cell_type": "code",
   "execution_count": 7,
   "metadata": {},
   "outputs": [],
   "source": [
    "sess = tf.InteractiveSession()"
   ]
  },
  {
   "cell_type": "code",
   "execution_count": null,
   "metadata": {},
   "outputs": [],
   "source": []
  }
 ],
 "metadata": {
  "kernelspec": {
   "display_name": "Python 3",
   "language": "python",
   "name": "python3"
  },
  "language_info": {
   "codemirror_mode": {
    "name": "ipython",
    "version": 3
   },
   "file_extension": ".py",
   "mimetype": "text/x-python",
   "name": "python",
   "nbconvert_exporter": "python",
   "pygments_lexer": "ipython3",
   "version": "3.6.5"
  }
 },
 "nbformat": 4,
 "nbformat_minor": 2
}
